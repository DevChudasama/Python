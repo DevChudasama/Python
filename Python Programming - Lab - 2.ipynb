{
 "cells": [
  {
   "cell_type": "markdown",
   "metadata": {},
   "source": [
    "\n",
    "<a href='https://www.darshan.ac.in/'> <img src='https://www.darshan.ac.in/Content/media/DU_Logo.svg' width=\"250\" height=\"300\"/></a>\n",
    "<pre>\n",
    "<center><b><h1>Python Programming - 2101CS405</b></center>\n",
    "<center><b><h1>Lab - 2</b></center>    \n",
    "<pre>"
   ]
  },
  {
   "cell_type": "markdown",
   "metadata": {},
   "source": [
    "# if..else.."
   ]
  },
  {
   "cell_type": "markdown",
   "metadata": {},
   "source": [
    "### 01) WAP to check whether the given number is positive or negative."
   ]
  },
  {
   "cell_type": "code",
   "execution_count": 4,
   "metadata": {},
   "outputs": [
    {
     "name": "stdout",
     "output_type": "stream",
     "text": [
      "Enter Number:-20\n",
      "Number is negative\n"
     ]
    }
   ],
   "source": [
    "num=int(input('Enter Number:'))\n",
    "\n",
    "if num == 0:\n",
    "    print('Number is Zero')\n",
    "elif num < 0:\n",
    "    print('Number is negative')\n",
    "elif num > 0:\n",
    "    print('Number is positive')\n",
    "else :\n",
    "    print('Error')    "
   ]
  },
  {
   "cell_type": "markdown",
   "metadata": {},
   "source": [
    "### 02) WAP to check whether the given number is odd or even"
   ]
  },
  {
   "cell_type": "code",
   "execution_count": 5,
   "metadata": {},
   "outputs": [
    {
     "name": "stdout",
     "output_type": "stream",
     "text": [
      "Enter  Number:55\n",
      "Number is Odd\n"
     ]
    }
   ],
   "source": [
    "num=int(input('Enter  Number:'))\n",
    "\n",
    "if num % 2 == 0:\n",
    "    print('Number is Even')\n",
    "else:\n",
    "    print('Number is Odd')"
   ]
  },
  {
   "cell_type": "markdown",
   "metadata": {},
   "source": [
    "### 03) WAP to find out largest number from given two numbers using simple if and ternary operator."
   ]
  },
  {
   "cell_type": "code",
   "execution_count": 7,
   "metadata": {},
   "outputs": [
    {
     "name": "stdout",
     "output_type": "stream",
     "text": [
      "Enter Number-1:50\n",
      "Enter Number-2:646\n",
      "646  is largest number\n",
      "====================\n",
      "Largest Number between 50 & 646 is 646\n"
     ]
    }
   ],
   "source": [
    "a=int(input('Enter Number-1:'))\n",
    "b=int(input('Enter Number-2:'))\n",
    "\n",
    "if a >= b:\n",
    "    print(a,' is largest number') \n",
    "else:\n",
    "    print(b,' is largest number')\n",
    "    \n",
    "print('====================')\n",
    "\n",
    "max = a if a >= b else b\n",
    "\n",
    "print('Largest Number between',a,'&',b,'is',max)"
   ]
  },
  {
   "cell_type": "markdown",
   "metadata": {},
   "source": [
    "### 04) WAP to find out largest number from given three numbers."
   ]
  },
  {
   "cell_type": "code",
   "execution_count": 8,
   "metadata": {},
   "outputs": [
    {
     "name": "stdout",
     "output_type": "stream",
     "text": [
      "Enter Number-1:50\n",
      "Enter Number-2:54\n",
      "Enter Number-3:266\n",
      "266  is largest number\n"
     ]
    }
   ],
   "source": [
    "a=int(input('Enter Number-1:'))\n",
    "b=int(input('Enter Number-2:'))\n",
    "c=int(input('Enter Number-3:'))\n",
    "\n",
    "if a >= b and a >= c:\n",
    "    print(a,' is largest number') \n",
    "elif b >= a and b >= c:\n",
    "    print(b,' is largest number')\n",
    "else:\n",
    "    print(c,' is largest number')"
   ]
  },
  {
   "cell_type": "markdown",
   "metadata": {},
   "source": [
    "### 05) WAP to check whether the given year is leap year or not.\n",
    "[If a year can be divisible by 4 but not divisible by 100 then it is leap year but if it is divisible by 400 then it is leap year]"
   ]
  },
  {
   "cell_type": "code",
   "execution_count": 15,
   "metadata": {},
   "outputs": [
    {
     "name": "stdout",
     "output_type": "stream",
     "text": [
      "Enter year:2024\n",
      "2024  is leap year\n"
     ]
    }
   ],
   "source": [
    "year = int(input('Enter year:'))\n",
    "\n",
    "if year % 4 == 0 and year % 100 != 0:\n",
    "    print(year,' is leap year')\n",
    "elif year % 400 == 0 and year % 100 == 0:\n",
    "    print(year,' is leap year')\n",
    "else:\n",
    "    print(year,'is not leap year')"
   ]
  },
  {
   "cell_type": "markdown",
   "metadata": {},
   "source": [
    "### 06) WAP in python to display the name of the day according to the number given by the user"
   ]
  },
  {
   "cell_type": "code",
   "execution_count": 16,
   "metadata": {},
   "outputs": [
    {
     "name": "stdout",
     "output_type": "stream",
     "text": [
      "Enter day of number:5\n",
      "\n",
      "Friday\n"
     ]
    }
   ],
   "source": [
    "day = int(input('Enter day of number:'))\n",
    "\n",
    "if day == 1:\n",
    "    print('\\nMonday')\n",
    "elif day == 2:\n",
    "    print('\\nTuesday')\n",
    "elif day == 3:\n",
    "    print('\\nWednesday')\n",
    "elif day == 4:\n",
    "    print('\\nThursday')\n",
    "elif day == 5:\n",
    "    print('\\nFriday')\n",
    "elif day == 6:\n",
    "    print('\\nSaturday')\n",
    "elif day == 7:\n",
    "    print('\\nSunday')\n",
    "else:\n",
    "    print('please enter day in between (1-7)')"
   ]
  },
  {
   "cell_type": "markdown",
   "metadata": {},
   "source": [
    "### 07) WAP to implement simple calculator which performs (add,sub,mul,div) of two no. based on user input."
   ]
  },
  {
   "cell_type": "code",
   "execution_count": 3,
   "metadata": {},
   "outputs": [
    {
     "name": "stdout",
     "output_type": "stream",
     "text": [
      "Enter Number-1:50\n",
      "Enter Number-2:20\n",
      "Enter,\n",
      "1 for addition,\n",
      "2 for subtraction,\n",
      "3 for multiplication,\n",
      "4 for division\n",
      "3\n",
      "multiplication is: 1000\n"
     ]
    }
   ],
   "source": [
    "a=int(input('Enter Number-1:'))\n",
    "b=int(input('Enter Number-2:'))\n",
    "\n",
    "check=int(input('Enter,\\n1 for addition,\\n2 for subtraction,\\n3 for multiplication,\\n4 for division\\n'))\n",
    "\n",
    "if check == 1:\n",
    "    print('addition is:',a+b)\n",
    "elif check == 2:\n",
    "    print('subtraction is:',a-b)\n",
    "elif check == 3:\n",
    "    print('multiplication is:',a*b)\n",
    "elif check == 4:\n",
    "    print('division is:',a/b)\n",
    "else:\n",
    "    print('please enter number between (1-4)')"
   ]
  },
  {
   "cell_type": "markdown",
   "metadata": {},
   "source": [
    "### 08) WAP to calculate electricity bill based on following criteria. Which takes the unit from the user.\n",
    "a. First 1 to 50 units – Rs. 2.60/unit</br>\n",
    "b. Next 50 to 100 units – Rs. 3.25/unit</br>\n",
    "c. Next 100 to 200 units – Rs. 5.26/unit</br>\n",
    "d. above 200 units – Rs. 8.45/unit"
   ]
  },
  {
   "cell_type": "code",
   "execution_count": 4,
   "metadata": {},
   "outputs": [
    {
     "name": "stdout",
     "output_type": "stream",
     "text": [
      "Enter Unit:500\n",
      "3093.5 Rs\n"
     ]
    }
   ],
   "source": [
    "Unit = float(input('Enter Unit:'))\n",
    "\n",
    "if Unit <= 50 and Unit >= 1:\n",
    "    print(Unit*2.60,'Rs')\n",
    "elif Unit <= 100 and Unit > 50:\n",
    "    print(((50*2.60)+(Unit-50)*3.25),'Rs')\n",
    "elif Unit <= 200 and Unit > 100:\n",
    "    print(((50*2.60)+(100*3.25)+((Unit-150)*5.26)),'Rs')\n",
    "elif Unit > 200 :\n",
    "    print(((50*2.60)+(100*3.25)+(100*5.26)+((Unit-250)*8.45)),'Rs')\n",
    "else:\n",
    "    print('Please enter valid consumed units')"
   ]
  },
  {
   "cell_type": "markdown",
   "metadata": {},
   "source": [
    "### 01) WAP to read marks of five subjects. Calculate percentage and print class accordingly. \n",
    "Fail below 35 </br>\n",
    "Pass Class between 35 to 45 </br>\n",
    "Second Class</br>\n",
    "between 45 to 60</br>\n",
    "First Class between 60 to 70</br> \n",
    "Distinction if more than 70"
   ]
  },
  {
   "cell_type": "code",
   "execution_count": 6,
   "metadata": {},
   "outputs": [
    {
     "name": "stdout",
     "output_type": "stream",
     "text": [
      "Enter marks of sub-1:95\n",
      "Enter marks of sub-2:90\n",
      "Enter marks of sub-3:97\n",
      "Enter marks of sub-4:93\n",
      "Enter marks of sub-5:99\n",
      "percentage is : 94.8\n",
      "Distinction\n"
     ]
    }
   ],
   "source": [
    "sub1 = int(input('Enter marks of sub-1:'))\n",
    "sub2 = int(input('Enter marks of sub-2:'))\n",
    "sub3 = int(input('Enter marks of sub-3:'))\n",
    "sub4 = int(input('Enter marks of sub-4:'))\n",
    "sub5 = int(input('Enter marks of sub-5:'))\n",
    "\n",
    "total = sub1+sub2+sub3+sub4+sub5\n",
    "percentage = total/5\n",
    "\n",
    "print('percentage is :',percentage)\n",
    "\n",
    "if percentage < 35:\n",
    "    print('Fail')\n",
    "elif percentage >= 35 and percentage < 45:\n",
    "    print('Pass')\n",
    "elif percentage >= 45 and percentage < 60:\n",
    "    print('Second Class')\n",
    "elif percentage >= 60 and percentage < 70:\n",
    "    print('First Class')\n",
    "elif percentage > 70:\n",
    "    print('Distinction')\n",
    "else:\n",
    "    print('Error')"
   ]
  },
  {
   "cell_type": "markdown",
   "metadata": {},
   "source": [
    "### 02) WAP to find out the Maximum and Minimum number from given 4 numbers."
   ]
  },
  {
   "cell_type": "code",
   "execution_count": 13,
   "metadata": {},
   "outputs": [
    {
     "name": "stdout",
     "output_type": "stream",
     "text": [
      "Enter Number - 1 :31\n",
      "Enter Number - 2 :3535\n",
      "Enter Number - 3 :212\n",
      "Enter Number - 4 :-1\n",
      "maximum : 3535 minimum : -1\n"
     ]
    }
   ],
   "source": [
    "n1 = int(input('Enter Number - 1 :'))\n",
    "n2 = int(input('Enter Number - 2 :'))\n",
    "n3 = int(input('Enter Number - 3 :'))\n",
    "n4 = int(input('Enter Number - 4 :'))\n",
    "\n",
    "if n1>=n2 and n1>=n3 and n1>=n4 :\n",
    "    max=n1\n",
    "elif n2>=n1 and n2>=n3 and n3>=n4 :\n",
    "    max=n2\n",
    "elif n3>=n1 and n1>=n2 and n1>=n4 :\n",
    "    max=n3\n",
    "else :\n",
    "    max=n4\n",
    "    \n",
    "if n1<=n2 and n1<=n3 and n1<=n4 :\n",
    "    min=n1\n",
    "elif n2<=n1 and n2<=n3 and n3<=n4 :\n",
    "    min=n2\n",
    "elif n3<=n1 and n1<=n2 and n1<=n4 :\n",
    "    min=n3\n",
    "else :\n",
    "    min=n4\n",
    "    \n",
    "print('maximum :',max,'minimum :',min)"
   ]
  },
  {
   "cell_type": "markdown",
   "metadata": {},
   "source": [
    "### 03) WAP to input an integer number and check the last digit of number is even or odd."
   ]
  },
  {
   "cell_type": "code",
   "execution_count": 4,
   "metadata": {},
   "outputs": [
    {
     "name": "stdout",
     "output_type": "stream",
     "text": [
      "Enter number:6465484\n",
      "Number is even\n"
     ]
    }
   ],
   "source": [
    "num = int(input('Enter number:'))\n",
    "\n",
    "if ((num % 10) % 2 == 0) :\n",
    "    print('Number is even')\n",
    "else :\n",
    "    print('Number is odd')"
   ]
  },
  {
   "cell_type": "markdown",
   "metadata": {},
   "source": [
    "### 04) WAP to determine the roots of the equation ax2+bx+c=0."
   ]
  },
  {
   "cell_type": "code",
   "execution_count": 8,
   "metadata": {},
   "outputs": [
    {
     "name": "stdout",
     "output_type": "stream",
     "text": [
      "Enter coefficient a:5\n",
      "Enter coefficient b:6\n",
      "Enter coefficient c:9\n",
      "-144.0\n",
      "root1: (-0.6+1.2j) i ,root2: (-0.6-1.2j) i\n"
     ]
    }
   ],
   "source": [
    "import cmath\n",
    "\n",
    "a = float(input('Enter coefficient a:'))\n",
    "b = float(input('Enter coefficient b:'))\n",
    "c = float(input('Enter coefficient c:'))\n",
    "\n",
    "disc = (b**2)-(4*a*c)\n",
    "print(disc)\n",
    "\n",
    "if disc > 0 :\n",
    "    root1 = (-b + cmath.sqrt(disc)) / (2 * a)\n",
    "    root2 = (-b - cmath.sqrt(disc)) / (2 * a);\n",
    "    print('Roots are:',root1,root2)\n",
    "elif disc == 0 :\n",
    "    root1 = root2 = -b / (2 * a);\n",
    "    print('Roots are:',root1)\n",
    "else : \n",
    "    real = -b / (2 * a)\n",
    "    imag = cmath.sqrt(disc) / (2 * a)\n",
    "    print('root1:',real + imag,'i',',root2:',real - imag,'i')\n",
    " "
   ]
  }
 ],
 "metadata": {
  "kernelspec": {
   "display_name": "Python 3 (ipykernel)",
   "language": "python",
   "name": "python3"
  },
  "language_info": {
   "codemirror_mode": {
    "name": "ipython",
    "version": 3
   },
   "file_extension": ".py",
   "mimetype": "text/x-python",
   "name": "python",
   "nbconvert_exporter": "python",
   "pygments_lexer": "ipython3",
   "version": "3.9.13"
  },
  "vscode": {
   "interpreter": {
    "hash": "ad2bdc8ecc057115af97d19610ffacc2b4e99fae6737bb82f5d7fb13d2f2c186"
   }
  }
 },
 "nbformat": 4,
 "nbformat_minor": 4
}
