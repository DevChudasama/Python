{
 "cells": [
  {
   "cell_type": "markdown",
   "metadata": {},
   "source": [
    "\n",
    "<a href='https://www.darshan.ac.in/'> <img src='https://www.darshan.ac.in/Content/media/DU_Logo.svg' width=\"250\" height=\"300\"/></a>\n",
    "<pre>\n",
    "<center><b><h1>Python Programming - 2101CS405</b></center>\n",
    "<center><b><h1>Lab - 4</b></center>    \n",
    "<pre>"
   ]
  },
  {
   "cell_type": "markdown",
   "metadata": {},
   "source": [
    "# String"
   ]
  },
  {
   "cell_type": "markdown",
   "metadata": {},
   "source": [
    "### 01) WAP to check given string is palindrome or not."
   ]
  },
  {
   "cell_type": "code",
   "execution_count": 5,
   "metadata": {},
   "outputs": [
    {
     "name": "stdout",
     "output_type": "stream",
     "text": [
      "Enter String :nayan\n",
      "String is palindrome\n"
     ]
    }
   ],
   "source": [
    "a = input('Enter String :')\n",
    "\n",
    "temp = a[::-1]\n",
    "\n",
    "if a == temp :\n",
    "    print('String is palindrome')\n",
    "    \n",
    "else :\n",
    "    print('String is not palindrome')"
   ]
  },
  {
   "cell_type": "markdown",
   "metadata": {},
   "source": [
    "### 02) WAP to reverse the words in given string."
   ]
  },
  {
   "cell_type": "code",
   "execution_count": 16,
   "metadata": {},
   "outputs": [
    {
     "name": "stdout",
     "output_type": "stream",
     "text": [
      "Enter String :hello my name is XYZ\n",
      "ZYX si eman ym olleh\n"
     ]
    }
   ],
   "source": [
    "a = input('Enter String :')\n",
    "b = a[::-1]\n",
    "\n",
    "print(b)"
   ]
  },
  {
   "cell_type": "markdown",
   "metadata": {},
   "source": [
    "### 03) WAP to remove ith character from given string"
   ]
  },
  {
   "cell_type": "code",
   "execution_count": 37,
   "metadata": {},
   "outputs": [
    {
     "name": "stdout",
     "output_type": "stream",
     "text": [
      "Enter String :Python is good\n",
      "Enter i th :6\n",
      "Pythonis good\n"
     ]
    }
   ],
   "source": [
    "a = input('Enter String :')\n",
    "i = int(input('Enter i th :'))\n",
    "\n",
    "x = a[:i]\n",
    "y = a[i+1: ]\n",
    "\n",
    "print(x+y)"
   ]
  },
  {
   "cell_type": "markdown",
   "metadata": {},
   "source": [
    "### 04) WAP to find length of String without using len function."
   ]
  },
  {
   "cell_type": "code",
   "execution_count": 39,
   "metadata": {},
   "outputs": [
    {
     "name": "stdout",
     "output_type": "stream",
     "text": [
      "Enter String :hello\n",
      "5\n"
     ]
    }
   ],
   "source": [
    "count = 0\n",
    "a = input('Enter String :')\n",
    "\n",
    "for i in a :\n",
    "    count += 1\n",
    "print(count)"
   ]
  },
  {
   "cell_type": "markdown",
   "metadata": {},
   "source": [
    "### 05) WAP to print even length word in string."
   ]
  },
  {
   "cell_type": "code",
   "execution_count": 9,
   "metadata": {},
   "outputs": [
    {
     "name": "stdout",
     "output_type": "stream",
     "text": [
      "Enter String :darshan university\n",
      "university\n"
     ]
    }
   ],
   "source": [
    "s = input(\"Enter String :\")\n",
    "a = s.split(\" \")\n",
    "\n",
    "for i in a :\n",
    "    if (len(i) %2 == 0) :\n",
    "        print(i)"
   ]
  },
  {
   "cell_type": "markdown",
   "metadata": {},
   "source": [
    "### 06) WAP to count numbers of vowels in given string."
   ]
  },
  {
   "cell_type": "code",
   "execution_count": 7,
   "metadata": {},
   "outputs": [
    {
     "name": "stdout",
     "output_type": "stream",
     "text": [
      "Enter String :HELLO\n",
      "2\n"
     ]
    }
   ],
   "source": [
    "vow = 0\n",
    "a = input('Enter String :')\n",
    "\n",
    "for i in a.lower() :\n",
    "    if (i == 'a' or i == 'e' or i == 'i' or i == 'o' or i == 'u') :\n",
    "        vow += 1\n",
    "\n",
    "print(vow)"
   ]
  },
  {
   "cell_type": "markdown",
   "metadata": {},
   "source": [
    "### 07) WAP to convert given array to string."
   ]
  },
  {
   "cell_type": "code",
   "execution_count": 10,
   "metadata": {},
   "outputs": [
    {
     "name": "stdout",
     "output_type": "stream",
     "text": [
      "Enter how many elements do you want in array:2\n",
      "Enter Array :hii\n",
      "Enter Array :,dear\n",
      "hii,dear\n"
     ]
    }
   ],
   "source": [
    "con = ''\n",
    "\n",
    "n = int(input('Enter how many elements do you want in array:'))\n",
    "list1 = []\n",
    "\n",
    "for i in range(0,n) :\n",
    "    arr = input('Enter Array :')\n",
    "    list1.append(arr)\n",
    "\n",
    "for j in list1:\n",
    "    con += j\n",
    "\n",
    "print(con)"
   ]
  },
  {
   "cell_type": "markdown",
   "metadata": {},
   "source": [
    "### 01) WAP to find out duplicate characters in given string."
   ]
  },
  {
   "cell_type": "code",
   "execution_count": 11,
   "metadata": {},
   "outputs": [
    {
     "name": "stdout",
     "output_type": "stream",
     "text": [
      "Enter String :hii i am from india\n",
      "i 5\n",
      "  4\n",
      "a 2\n",
      "m 2\n"
     ]
    }
   ],
   "source": [
    "s = input('Enter String :')\n",
    "\n",
    "for i in range(0,len(s)) :\n",
    "    count = 1\n",
    "    for j in range(i+1,len(s)) :\n",
    "        if  (s[i] == s[j] and s[i] != '') :\n",
    "            count += 1\n",
    "            s = s[:j]  + '0' + s[j+1:]\n",
    "            \n",
    "    if (count > 1 and s[i] != '0') :\n",
    "        print(s[i],count)"
   ]
  },
  {
   "cell_type": "markdown",
   "metadata": {},
   "source": [
    "### 02) WAP to capitalize the first and last character of each word in a string."
   ]
  },
  {
   "cell_type": "code",
   "execution_count": 9,
   "metadata": {},
   "outputs": [
    {
     "name": "stdout",
     "output_type": "stream",
     "text": [
      "HellO\n"
     ]
    }
   ],
   "source": [
    "s = input('Enter String :')\n",
    "s=result=s.title()\n",
    "result = \"\"\n",
    "\n",
    "for i in s.split() :\n",
    "    result += i[:-1]  + i[-1].upper() + \" \"\n",
    "    \n",
    "print(result[:-1])\n"
   ]
  },
  {
   "cell_type": "markdown",
   "metadata": {},
   "source": [
    "### 03) WAP to find Maximum frequency character in String."
   ]
  },
  {
   "cell_type": "code",
   "execution_count": 3,
   "metadata": {},
   "outputs": [
    {
     "name": "stdout",
     "output_type": "stream",
     "text": [
      "Enter String :hello from python\n",
      "3\n"
     ]
    }
   ],
   "source": [
    "s = input('Enter String :')\n",
    "list1 = []\n",
    "\n",
    "a=0\n",
    "for i in s :\n",
    "    for j in i :\n",
    "        if j == \"\" :\n",
    "            pass\n",
    "        else :\n",
    "            a = s.count(j)\n",
    "    list1.append(a)\n",
    "    \n",
    "max = max(list1)\n",
    "print(max)"
   ]
  },
  {
   "cell_type": "markdown",
   "metadata": {},
   "source": [
    "### 04) WAP to find Minimum frequency character in String."
   ]
  },
  {
   "cell_type": "code",
   "execution_count": 4,
   "metadata": {},
   "outputs": [
    {
     "name": "stdout",
     "output_type": "stream",
     "text": [
      "Enter String :helllo from python\n",
      "1\n"
     ]
    }
   ],
   "source": [
    "s = input('Enter String :')\n",
    "list1 = []\n",
    "\n",
    "a=0\n",
    "for i in s :\n",
    "    for j in i :\n",
    "        if j == \"\" :\n",
    "            pass\n",
    "        else :\n",
    "            a = s.count(j)\n",
    "    list1.append(a)\n",
    "    \n",
    "min = min(list1)\n",
    "print(min)"
   ]
  },
  {
   "cell_type": "markdown",
   "metadata": {},
   "source": [
    "### 05) WAP to check if a given string is binary string or not"
   ]
  },
  {
   "cell_type": "code",
   "execution_count": null,
   "metadata": {},
   "outputs": [],
   "source": [
    "s = input('Enter String :')\n",
    "count = 0\n",
    "n = len(s)\n",
    "for i in s :\n",
    "    if (i == 0 or i == 1 or i == \" \") :\n",
    "        count += 1\n",
    "\n",
    "if count == n :\n",
    "    print('given string is binary string')\n",
    "else :\n",
    "    print('given string is not binary string')\n"
   ]
  }
 ],
 "metadata": {
  "kernelspec": {
   "display_name": "Python 3 (ipykernel)",
   "language": "python",
   "name": "python3"
  },
  "language_info": {
   "codemirror_mode": {
    "name": "ipython",
    "version": 3
   },
   "file_extension": ".py",
   "mimetype": "text/x-python",
   "name": "python",
   "nbconvert_exporter": "python",
   "pygments_lexer": "ipython3",
   "version": "3.9.13 (main, Aug 25 2022, 23:51:50) [MSC v.1916 64 bit (AMD64)]"
  },
  "vscode": {
   "interpreter": {
    "hash": "ad2bdc8ecc057115af97d19610ffacc2b4e99fae6737bb82f5d7fb13d2f2c186"
   }
  }
 },
 "nbformat": 4,
 "nbformat_minor": 4
}
