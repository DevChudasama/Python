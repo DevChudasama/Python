{
 "cells": [
  {
   "cell_type": "markdown",
   "metadata": {},
   "source": [
    "<a href='https://www.darshan.ac.in/'> <img src='https://www.darshan.ac.in/Content/media/DU_Logo.svg' width=\"250\" height=\"300\"/></a>\n",
    "<pre>\n",
    "<center><b><h1>Python Programming - 2101CS405</b></center>\n",
    "<center><b><h1>Lab - 6</b></center>    \n",
    "<pre>"
   ]
  },
  {
   "cell_type": "markdown",
   "metadata": {},
   "source": [
    "# Tuples, dictionary, set"
   ]
  },
  {
   "cell_type": "markdown",
   "metadata": {},
   "source": [
    "# A"
   ]
  },
  {
   "cell_type": "markdown",
   "metadata": {},
   "source": [
    "### 01) WAP to sort python dictionary by key or value."
   ]
  },
  {
   "cell_type": "code",
   "execution_count": 9,
   "metadata": {},
   "outputs": [
    {
     "name": "stdout",
     "output_type": "stream",
     "text": [
      "{'city': 'rajkot', 'college': 'Darshan'}\n"
     ]
    }
   ],
   "source": [
    "Dic = {'college' : 'Darshan','city' : 'rajkot'}\n",
    "key = list(Dic.keys())\n",
    "key.sort()\n",
    "keyS = {i : Dic[i] for i in key}\n",
    "print(keyS)"
   ]
  },
  {
   "cell_type": "markdown",
   "metadata": {},
   "source": [
    "### 02) WAP to merge two dictionaries given by user."
   ]
  },
  {
   "cell_type": "code",
   "execution_count": 3,
   "metadata": {},
   "outputs": [
    {
     "name": "stdout",
     "output_type": "stream",
     "text": [
      "{'college': 'darshan', 'city': 'rajkot'}\n"
     ]
    }
   ],
   "source": [
    "a = input('Enter key - 1 :')\n",
    "a1 = input('Enter value - 1 :')\n",
    "dic1 = {a : a1}\n",
    "\n",
    "b = input('Enter key - 2 :')\n",
    "b1 = input('Enter value - 2 :')\n",
    "dic2 = {b:b1}\n",
    "\n",
    "dic3 = dict(dic1,**dic2)\n",
    "print(dic3)"
   ]
  },
  {
   "cell_type": "markdown",
   "metadata": {},
   "source": [
    "### 03) WAP to find tuples that have all elements divisible by K from a list of tuples."
   ]
  },
  {
   "cell_type": "code",
   "execution_count": 5,
   "metadata": {},
   "outputs": [
    {
     "name": "stdout",
     "output_type": "stream",
     "text": [
      "(1, 2, 3, 4, 5, 6, 7, 8, 9, 10)\n",
      "2 4 6 8 10 "
     ]
    }
   ],
   "source": [
    "tup = tuple(i for i in range(1,11))\n",
    "print(tup)\n",
    "\n",
    "div = int(input('Enter number that will divisible :'))\n",
    "for i in tup:\n",
    "    if i % div == 0 :\n",
    "        print(i,end=' ')"
   ]
  },
  {
   "cell_type": "markdown",
   "metadata": {},
   "source": [
    "### 04) WAP to find Tuples with positive elements in List of tuples."
   ]
  },
  {
   "cell_type": "code",
   "execution_count": 1,
   "metadata": {},
   "outputs": [
    {
     "name": "stdout",
     "output_type": "stream",
     "text": [
      "how many element do you want to insert :5\n",
      "Enter Number 1:45\n",
      "Enter Number 2:-45\n",
      "Enter Number 3:64\n",
      "Enter Number 4:-11\n",
      "Enter Number 5:26\n",
      "[45, -45, 64, -11, 26]\n",
      "45\n",
      "64\n",
      "26\n"
     ]
    }
   ],
   "source": [
    "list1 = []\n",
    "n = int(input('how many element do you want to insert :'))\n",
    "for i in range(1,n+1) :\n",
    "    num = int(input(f'Enter Number {i}:'))\n",
    "    list1.append(num)\n",
    "print(list1) \n",
    "for i in list1 :\n",
    "    if i > 0 :\n",
    "        print(i)"
   ]
  },
  {
   "cell_type": "markdown",
   "metadata": {},
   "source": [
    "### 05) WAP which perform union of two sets."
   ]
  },
  {
   "cell_type": "code",
   "execution_count": 2,
   "metadata": {},
   "outputs": [
    {
     "name": "stdout",
     "output_type": "stream",
     "text": [
      "{1, 2, 3, 4, 5, 6, 7, 8, 9, 10, 11, 12, 13, 14, 15, 16, 17, 18, 19, 20}\n"
     ]
    }
   ],
   "source": [
    "set1 = {i for i in range(1,11)}\n",
    "set2 = {i for i in range(11,21)}\n",
    "\n",
    "print(set1.union(set2))"
   ]
  },
  {
   "cell_type": "markdown",
   "metadata": {},
   "source": [
    "# B"
   ]
  },
  {
   "cell_type": "markdown",
   "metadata": {},
   "source": [
    "### 01) WAP to convert binary tuple into integer."
   ]
  },
  {
   "cell_type": "code",
   "execution_count": 3,
   "metadata": {},
   "outputs": [
    {
     "name": "stdout",
     "output_type": "stream",
     "text": [
      "Enter Binary Number :1010\n",
      "integer number is : 10\n"
     ]
    }
   ],
   "source": [
    "import math\n",
    "deci,dec,i = 0,0,0\n",
    "\n",
    "n = int(input('Enter Binary Number :'))\n",
    "\n",
    "while n != 0 :\n",
    "    dec = n % 10\n",
    "    deci = deci + dec * pow(2,i)\n",
    "    n = n // 10\n",
    "    i += 1\n",
    "    \n",
    "print('integer number is :',deci)"
   ]
  },
  {
   "cell_type": "markdown",
   "metadata": {},
   "source": [
    "### 02) WAP to count frequency in list by dictionary."
   ]
  },
  {
   "cell_type": "code",
   "execution_count": 4,
   "metadata": {},
   "outputs": [
    {
     "name": "stdout",
     "output_type": "stream",
     "text": [
      "{1: 3, 2: 3, 3: 2, 4: 1, 5: 2, 8: 2}\n"
     ]
    }
   ],
   "source": [
    "list1 = [1,2,3,4,2,5,8,8,1,2,3,5,1]\n",
    "dic1 = {}\n",
    "\n",
    "for i in list1 :\n",
    "    if i in dic1 :\n",
    "        dic1[i] += 1\n",
    "    else :\n",
    "        dic1[i] = 1\n",
    "print (dic1)"
   ]
  },
  {
   "cell_type": "markdown",
   "metadata": {},
   "source": [
    "### 03) WAP to remove all the duplicate words from the list using dictionary."
   ]
  },
  {
   "cell_type": "code",
   "execution_count": 5,
   "metadata": {},
   "outputs": [
    {
     "name": "stdout",
     "output_type": "stream",
     "text": [
      "Original list : [{'college': 'Darshan'}, {'city': 'rajkot'}, {'college': 'Darshan'}]\n",
      "final list is : [{'city': 'rajkot'}, {'college': 'Darshan'}]\n"
     ]
    }
   ],
   "source": [
    "list2 = []\n",
    "\n",
    "list1 = [{'college' : 'Darshan'},{'city' : 'rajkot'},{'college' : 'Darshan'}]\n",
    "print (\"Original list : \" + str(list1))\n",
    "\n",
    "for i in range(len(list1)):\n",
    "    if list1[i] not in list1[i + 1:]:\n",
    "        list2.append(list1[i])\n",
    "\n",
    "print (\"final list is : \" + str(list2))"
   ]
  }
 ],
 "metadata": {
  "kernelspec": {
   "display_name": "Python 3 (ipykernel)",
   "language": "python",
   "name": "python3"
  },
  "language_info": {
   "codemirror_mode": {
    "name": "ipython",
    "version": 3
   },
   "file_extension": ".py",
   "mimetype": "text/x-python",
   "name": "python",
   "nbconvert_exporter": "python",
   "pygments_lexer": "ipython3",
   "version": "3.9.13"
  },
  "vscode": {
   "interpreter": {
    "hash": "ad2bdc8ecc057115af97d19610ffacc2b4e99fae6737bb82f5d7fb13d2f2c186"
   }
  }
 },
 "nbformat": 4,
 "nbformat_minor": 4
}
