{
 "cells": [
  {
   "cell_type": "markdown",
   "metadata": {},
   "source": [
    "<a href='https://www.darshan.ac.in/'> <img src='https://www.darshan.ac.in/Content/media/DU_Logo.svg' width=\"250\" height=\"300\"/></a>\n",
    "<pre>\n",
    "<center><b><h1>Python Programming - 2101CS405</b></center>\n",
    "<center><b><h1>Lab - 9</b></center>    \n",
    "<pre>"
   ]
  },
  {
   "cell_type": "markdown",
   "metadata": {},
   "source": [
    "# Exception Handling"
   ]
  },
  {
   "cell_type": "markdown",
   "metadata": {},
   "source": [
    "# A"
   ]
  },
  {
   "cell_type": "markdown",
   "metadata": {},
   "source": [
    "### 01) WAP to handle divide by zero exception."
   ]
  },
  {
   "cell_type": "code",
   "execution_count": 3,
   "metadata": {},
   "outputs": [
    {
     "name": "stdout",
     "output_type": "stream",
     "text": [
      "Enter a number:10\n",
      "Invalid\n"
     ]
    }
   ],
   "source": [
    "a = int(input('Enter a number:'))\n",
    "\n",
    "try: \n",
    "    result = a/0\n",
    "except ZeroDivisionError:\n",
    "    print('Invalid')"
   ]
  },
  {
   "cell_type": "markdown",
   "metadata": {},
   "source": [
    "### 02)  Write a Python program that inputs a number and generates an error message if it is not a number."
   ]
  },
  {
   "cell_type": "code",
   "execution_count": 6,
   "metadata": {},
   "outputs": [
    {
     "name": "stdout",
     "output_type": "stream",
     "text": [
      "Enter a number1:10\n",
      "Enter a number2:fkenf\n",
      "Invalid data type\n"
     ]
    }
   ],
   "source": [
    "try: \n",
    "    a = int(input('Enter a number1:'))\n",
    "    b = int(input('Enter a number2:'))\n",
    "    result =  a + b\n",
    "except ValueError :\n",
    "    print('Invalid data type')"
   ]
  },
  {
   "cell_type": "markdown",
   "metadata": {},
   "source": [
    "### 03) WAP to handle file not found Exception"
   ]
  },
  {
   "cell_type": "code",
   "execution_count": 1,
   "metadata": {},
   "outputs": [
    {
     "name": "stdout",
     "output_type": "stream",
     "text": [
      "File Not Found Error\n"
     ]
    }
   ],
   "source": [
    "try: \n",
    "    a = open('123.txt', 'r')\n",
    "except FileNotFoundError :\n",
    "    print('File Not Found Error')"
   ]
  },
  {
   "cell_type": "markdown",
   "metadata": {},
   "source": [
    "### 04) WAP to handle type Exception."
   ]
  },
  {
   "cell_type": "code",
   "execution_count": 2,
   "metadata": {},
   "outputs": [
    {
     "name": "stdout",
     "output_type": "stream",
     "text": [
      "Invalid data type\n"
     ]
    }
   ],
   "source": [
    "try: \n",
    "    a = int(input('Enter a number1:'))\n",
    "    b = input('Enter a number2:')\n",
    "    result =  a + b\n",
    "except TypeError :\n",
    "    print('Type Error')"
   ]
  },
  {
   "cell_type": "markdown",
   "metadata": {},
   "source": [
    "### 05) WAP to demonstrate valueError and indexError with example."
   ]
  },
  {
   "cell_type": "code",
   "execution_count": 22,
   "metadata": {},
   "outputs": [
    {
     "name": "stdout",
     "output_type": "stream",
     "text": [
      "invalid literal for int() with base 10: 'h'\n"
     ]
    }
   ],
   "source": [
    "list1 = []\n",
    "n=5\n",
    "\n",
    "try: \n",
    "    for i in range(1,n+1):\n",
    "        a = int(input('enter Number :'))\n",
    "        list1.append(i)\n",
    "    print(list1[6])\n",
    "\n",
    "except (IndexError, ValueError) as e:\n",
    "    print(e)"
   ]
  },
  {
   "cell_type": "markdown",
   "metadata": {},
   "source": [
    "### 06) WAP to domonstrate else  and finally block."
   ]
  },
  {
   "cell_type": "code",
   "execution_count": 6,
   "metadata": {},
   "outputs": [
    {
     "name": "stdout",
     "output_type": "stream",
     "text": [
      "addition is = 0.5\n",
      "program completed successfully\n"
     ]
    }
   ],
   "source": [
    "try : \n",
    "    a = int(input('Enter a number1:'))\n",
    "    b = int(input('Enter a number2:'))\n",
    "    result =  a/b\n",
    "except ZeroDivisionError :\n",
    "    print('Can not divide by zero')\n",
    "else :\n",
    "    print('addition is =',result)\n",
    "finally :\n",
    "    print('program completed successfully')"
   ]
  },
  {
   "cell_type": "markdown",
   "metadata": {},
   "source": [
    "### 07) Create a short program that prompts the user for a list of grades separated by commas. Split the string into individual grades and use a list comprehension to convert each string to an integer. You should use a try statement to inform the user when the values they entered cannot be converted."
   ]
  },
  {
   "cell_type": "code",
   "execution_count": 27,
   "metadata": {},
   "outputs": [
    {
     "name": "stdout",
     "output_type": "stream",
     "text": [
      "['a', 'b', 'c']\n",
      "values can not be converted\n"
     ]
    }
   ],
   "source": [
    "try: \n",
    "    a = input('Enter Grades comma separated:')\n",
    "    s = a.split(',')\n",
    "    print(s)\n",
    "    \n",
    "    temp = [int(i) for i in a]\n",
    "    print(temp)\n",
    "except :\n",
    "    print('values can not be converted')"
   ]
  },
  {
   "cell_type": "markdown",
   "metadata": {},
   "source": []
  },
  {
   "cell_type": "markdown",
   "metadata": {},
   "source": [
    "# B"
   ]
  },
  {
   "cell_type": "markdown",
   "metadata": {},
   "source": [
    "### 01) WAP to Raising User Generated Exception."
   ]
  },
  {
   "cell_type": "code",
   "execution_count": 32,
   "metadata": {},
   "outputs": [
    {
     "name": "stdout",
     "output_type": "stream",
     "text": [
      "Number is negative or zero\n"
     ]
    }
   ],
   "source": [
    "\n",
    "class AgeLessthenZeroException(Exception):\n",
    "    def __init__ (self, arg): \n",
    "        self.arg = arg\n",
    "\n",
    "try:\n",
    "    a = int(input(\"Enter Number\"))\n",
    "\n",
    "    if a > 0:\n",
    "        print(a)\n",
    "    else:\n",
    "        raise AgeLessthenZeroException(\"Number is negative or zero\")\n",
    "\n",
    "except AgeLessthenZeroException as e:\n",
    "    print(e.arg)"
   ]
  },
  {
   "cell_type": "markdown",
   "metadata": {},
   "source": [
    "### 02) WAP to raise your custom Exception."
   ]
  },
  {
   "cell_type": "code",
   "execution_count": 33,
   "metadata": {},
   "outputs": [
    {
     "name": "stdout",
     "output_type": "stream",
     "text": [
      "You are not eligible for voting\n"
     ]
    }
   ],
   "source": [
    "try:\n",
    "    a = int(input('Entre Age :'))\n",
    "    if a >= 18 :\n",
    "        print('You are Eligible for voting')\n",
    "    else :\n",
    "        raise Exception()\n",
    "except :\n",
    "    print('You are not eligible for voting')"
   ]
  }
 ],
 "metadata": {
  "kernelspec": {
   "display_name": "Python 3 (ipykernel)",
   "language": "python",
   "name": "python3"
  },
  "language_info": {
   "codemirror_mode": {
    "name": "ipython",
    "version": 3
   },
   "file_extension": ".py",
   "mimetype": "text/x-python",
   "name": "python",
   "nbconvert_exporter": "python",
   "pygments_lexer": "ipython3",
   "version": "3.9.13"
  },
  "vscode": {
   "interpreter": {
    "hash": "ad2bdc8ecc057115af97d19610ffacc2b4e99fae6737bb82f5d7fb13d2f2c186"
   }
  }
 },
 "nbformat": 4,
 "nbformat_minor": 4
}
