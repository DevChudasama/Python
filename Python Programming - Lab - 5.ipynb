{
 "cells": [
  {
   "cell_type": "markdown",
   "metadata": {},
   "source": [
    "\n",
    "<a href='https://www.darshan.ac.in/'> <img src='https://www.darshan.ac.in/Content/media/DU_Logo.svg' width=\"250\" height=\"300\"/></a>\n",
    "<pre>\n",
    "<center><b><h1>Python Programming - 2101CS405</b></center>\n",
    "<center><b><h1>Lab - 5</b></center>    \n",
    "<pre>"
   ]
  },
  {
   "cell_type": "markdown",
   "metadata": {},
   "source": [
    "# list"
   ]
  },
  {
   "cell_type": "markdown",
   "metadata": {},
   "source": [
    "### 01) WAP to find sum of all the elements in List."
   ]
  },
  {
   "cell_type": "code",
   "execution_count": 13,
   "metadata": {},
   "outputs": [
    {
     "name": "stdout",
     "output_type": "stream",
     "text": [
      "74\n"
     ]
    }
   ],
   "source": [
    "total = 0\n",
    "list1 = [11,5,17,18,23]\n",
    "\n",
    "for i in range(0,len(list1)) :\n",
    "    total += list1[i]\n",
    "    \n",
    "print(total)"
   ]
  },
  {
   "cell_type": "markdown",
   "metadata": {},
   "source": [
    "### 02) WAP to find largest element in a List."
   ]
  },
  {
   "cell_type": "code",
   "execution_count": 19,
   "metadata": {},
   "outputs": [
    {
     "name": "stdout",
     "output_type": "stream",
     "text": [
      "100\n"
     ]
    }
   ],
   "source": [
    "list1 = [11,5,17,18,100]\n",
    "\n",
    "max = list1[0]\n",
    "for i in list1 :\n",
    "    if i > max :\n",
    "        max = i\n",
    "\n",
    "print(max)"
   ]
  },
  {
   "cell_type": "markdown",
   "metadata": {},
   "source": [
    "### 03) WAP to split the List into two and append the first part to the end."
   ]
  },
  {
   "cell_type": "code",
   "execution_count": 29,
   "metadata": {},
   "outputs": [
    {
     "name": "stdout",
     "output_type": "stream",
     "text": [
      "[1, 2, 3, 4, 5, 1, 2]\n"
     ]
    }
   ],
   "source": [
    "list1 = [1,2,3,4,5]\n",
    "\n",
    "for i in range(0,int(len(list1)/2)) :\n",
    "    temp = list1[i]\n",
    "    list1.append(temp)\n",
    "print(list1)"
   ]
  },
  {
   "cell_type": "markdown",
   "metadata": {},
   "source": [
    "### 04) WAP to interchange first and last elements in list entered by a user."
   ]
  },
  {
   "cell_type": "code",
   "execution_count": 1,
   "metadata": {},
   "outputs": [
    {
     "name": "stdout",
     "output_type": "stream",
     "text": [
      "Previous List : [1, 2, 3, 4, 5]\n",
      "New List : [5, 2, 3, 4, 1]\n"
     ]
    }
   ],
   "source": [
    "list1 = []\n",
    "\n",
    "n = int(input('How many element do you want :'))\n",
    "for i in range(1,n+1) :\n",
    "        num = int(input('Enter the number :'))\n",
    "        list1.append(num)\n",
    "\n",
    "print('Previous List :',list1)\n",
    "\n",
    "temp = list1[0]\n",
    "list1[0] = list1[n-1]\n",
    "list1[n-1] = temp\n",
    "\n",
    "print('New List :',list1)"
   ]
  },
  {
   "cell_type": "markdown",
   "metadata": {},
   "source": [
    "### 05) WAP to interchange the elements on two positions entered by a user."
   ]
  },
  {
   "cell_type": "code",
   "execution_count": 1,
   "metadata": {},
   "outputs": [
    {
     "name": "stdout",
     "output_type": "stream",
     "text": [
      "How many element do you want :5\n",
      "Enter the number :10\n",
      "Enter the number :20\n",
      "Enter the number :30\n",
      "Enter the number :40\n",
      "Enter the number :50\n",
      "Previous List : [10, 20, 30, 40, 50]\n",
      "Enter position - 1 :2\n",
      "Enter position - 2  :5\n",
      "New List : [10, 20, 50, 40, 30]\n"
     ]
    }
   ],
   "source": [
    "list1 = []\n",
    "\n",
    "n = int(input('How many element do you want :'))\n",
    "for i in range(1,n+1) :\n",
    "        num = int(input('Enter the number :'))\n",
    "        list1.append(num)\n",
    "\n",
    "print('Previous List :',list1)\n",
    "\n",
    "n1 = int(input('Enter position - 1 :'))\n",
    "n2 = int(input('Enter position - 2  :'))\n",
    "\n",
    "temp = list1[n1]\n",
    "list1[n1] = list1[n2-1]\n",
    "list1[n2-1] = temp\n",
    "\n",
    "print('New List :',list1)"
   ]
  },
  {
   "cell_type": "markdown",
   "metadata": {},
   "source": [
    "### 06) WAP to reverses the list entered by user."
   ]
  },
  {
   "cell_type": "code",
   "execution_count": 54,
   "metadata": {},
   "outputs": [
    {
     "name": "stdout",
     "output_type": "stream",
     "text": [
      "How many element do you want :5\n",
      "Enter the number :10\n",
      "Enter the number :20\n",
      "Enter the number :30\n",
      "Enter the number :40\n",
      "Enter the number :50\n",
      "Previous List : [10, 20, 30, 40, 50]\n",
      "New List : [50, 40, 30, 20, 10]\n"
     ]
    }
   ],
   "source": [
    "list1 = []\n",
    "\n",
    "n = int(input('How many element do you want :'))\n",
    "for i in range(1,n+1) :\n",
    "        num = int(input('Enter the number :'))\n",
    "        list1.append(num)\n",
    "\n",
    "print('Previous List :',list1)\n",
    "\n",
    "list1.reverse()\n",
    "\n",
    "print('New List :',list1)"
   ]
  },
  {
   "cell_type": "markdown",
   "metadata": {},
   "source": [
    "### 07) Python program to remove multiple elements from a list using list comprehension"
   ]
  },
  {
   "cell_type": "code",
   "execution_count": 4,
   "metadata": {},
   "outputs": [
    {
     "name": "stdout",
     "output_type": "stream",
     "text": [
      "How many element do you want :5\n",
      "Enter the number :10\n",
      "Enter the number :200\n",
      "Enter the number :30\n",
      "Enter the number :45\n",
      "Enter the number :47\n",
      "Previous List : [10, 200, 30, 45, 47]\n",
      "Enter position :2\n",
      "[True, False, True, False, True]\n"
     ]
    }
   ],
   "source": [
    "list1 = []\n",
    "\n",
    "n = int(input('How many element do you want :'))\n",
    "\n",
    "for i in range(1,n+1) :\n",
    "    num = int(input('Enter the number :'))\n",
    "    list1.append(num)\n",
    "\n",
    "print('Previous List :',list1)\n",
    "\n",
    "n1 = int(input('Enter position :'))\n",
    "\n",
    "list1 = [ for i in range(1,n+1)]\n",
    "print(list1)\n"
   ]
  },
  {
   "cell_type": "markdown",
   "metadata": {},
   "source": [
    "### 08) Create a list from the specified start to end index of another list."
   ]
  },
  {
   "cell_type": "code",
   "execution_count": 9,
   "metadata": {},
   "outputs": [
    {
     "name": "stdout",
     "output_type": "stream",
     "text": [
      "How many element do you want :5\n",
      "Enter the number :10\n",
      "Enter the number :20\n",
      "Enter the number :30\n",
      "Enter the number :40\n",
      "Enter the number :50\n",
      "enter starting index :0\n",
      "enter ending index :3\n",
      "1st List : [10, 20, 30, 40, 50]\n",
      "2nd List : [10, 20, 30, 40]\n"
     ]
    }
   ],
   "source": [
    "list1 = []\n",
    "\n",
    "n = int(input('How many element do you want :'))\n",
    "for i in range(1,n+1) :\n",
    "        num = int(input('Enter the number :'))\n",
    "        list1.append(num)\n",
    "\n",
    "n1 = int(input('enter starting index :'))\n",
    "n2 = int(input('enter ending index :'))\n",
    "\n",
    "list2 = list1[n1:n2+1]\n",
    "print('1st List :',list1)\n",
    "print('2nd List :',list2)"
   ]
  },
  {
   "cell_type": "markdown",
   "metadata": {},
   "source": [
    "### 09) Input comma separated elements, convert into list and print."
   ]
  },
  {
   "cell_type": "code",
   "execution_count": 1,
   "metadata": {},
   "outputs": [
    {
     "name": "stdout",
     "output_type": "stream",
     "text": [
      "Enter comma separated elements :1,2,3\n",
      "['1', '2', '3']\n"
     ]
    }
   ],
   "source": [
    "Ele = input('Enter comma separated elements :')\n",
    "\n",
    "ele = Ele.split(',')\n",
    "\n",
    "print(ele)"
   ]
  },
  {
   "cell_type": "markdown",
   "metadata": {},
   "source": [
    "### 01) WAP to count Even and Odd numbers in a List."
   ]
  },
  {
   "cell_type": "code",
   "execution_count": 5,
   "metadata": {},
   "outputs": [
    {
     "name": "stdout",
     "output_type": "stream",
     "text": [
      "How many element do you want :5\n",
      "Enter the number :55\n",
      "Enter the number :20\n",
      "Enter the number :78\n",
      "Enter the number :99\n",
      "Enter the number :23\n",
      "Total Even Number : 2\n",
      "Total Odd Number : 3\n"
     ]
    }
   ],
   "source": [
    "list1 = []\n",
    "Even = 0\n",
    "odd = 0\n",
    "n = int(input('How many element do you want :'))\n",
    "for i in range(1,n+1) :\n",
    "        num = int(input('Enter the number :'))\n",
    "        list1.append(num)\n",
    "\n",
    "for i in  list1 :\n",
    "    if i % 2 == 0:\n",
    "        Even += 1\n",
    "    else:\n",
    "        odd += 1\n",
    "\n",
    "print('Total Even Number :',Even)\n",
    "print('Total Odd Number :',odd)"
   ]
  },
  {
   "cell_type": "markdown",
   "metadata": {},
   "source": [
    "### 02) Python program to find N largest and smallest elements from the list"
   ]
  },
  {
   "cell_type": "code",
   "execution_count": 7,
   "metadata": {},
   "outputs": [
    {
     "name": "stdout",
     "output_type": "stream",
     "text": [
      "Enter how many N largest and smallest :2\n",
      "How many element do you want :5\n",
      "Enter the number :6\n",
      "Enter the number :-10\n",
      "Enter the number :4\n",
      "Enter the number :7\n",
      "Enter the number :2\n",
      "2 Largest Element [6, 7]\n",
      "2 Smallest Element [-10, 2]\n"
     ]
    }
   ],
   "source": [
    "list1 = []\n",
    "n1 = int(input('Enter how many N largest and smallest :'))\n",
    "n = int(input('How many element do you want :'))\n",
    "for i in range(1,n+1) :\n",
    "        num = int(input('Enter the number :'))\n",
    "        list1.append(num)\n",
    "        \n",
    "list1.sort()\n",
    "\n",
    "smallest = list1[:n1]\n",
    "largest = list1[-n1:]\n",
    "\n",
    "print(n1,\"Largest Element\",largest)\n",
    "print(n1,\"Smallest Element\",smallest)"
   ]
  },
  {
   "cell_type": "markdown",
   "metadata": {},
   "source": [
    "### 03) WAP to print duplicates from a list of integers"
   ]
  },
  {
   "cell_type": "code",
   "execution_count": 10,
   "metadata": {},
   "outputs": [
    {
     "name": "stdout",
     "output_type": "stream",
     "text": [
      "How many element do you want :5\n",
      "Enter the number :1\n",
      "Enter the number :2\n",
      "Enter the number :3\n",
      "Enter the number :2\n",
      "Enter the number :3\n",
      "duplicates integers from a list : 2\n",
      "duplicates integers from a list : 3\n"
     ]
    }
   ],
   "source": [
    "list1 = []\n",
    "\n",
    "n = int(input('How many element do you want :'))\n",
    "for i in range(1,n+1) :\n",
    "        num = int(input('Enter the number :'))\n",
    "        list1.append(num)\n",
    "        \n",
    "for i in range(0,len(list1)) :\n",
    "    for j in range(i+1,len(list1)) :\n",
    "        if (list1[i] == list1[j]) :\n",
    "            print('duplicates integers from a list :',list1[j])\n",
    "        "
   ]
  }
 ],
 "metadata": {
  "kernelspec": {
   "display_name": "Python 3 (ipykernel)",
   "language": "python",
   "name": "python3"
  },
  "language_info": {
   "codemirror_mode": {
    "name": "ipython",
    "version": 3
   },
   "file_extension": ".py",
   "mimetype": "text/x-python",
   "name": "python",
   "nbconvert_exporter": "python",
   "pygments_lexer": "ipython3",
   "version": "3.9.13 (main, Aug 25 2022, 23:51:50) [MSC v.1916 64 bit (AMD64)]"
  },
  "vscode": {
   "interpreter": {
    "hash": "ad2bdc8ecc057115af97d19610ffacc2b4e99fae6737bb82f5d7fb13d2f2c186"
   }
  }
 },
 "nbformat": 4,
 "nbformat_minor": 4
}
