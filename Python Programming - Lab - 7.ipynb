{
 "cells": [
  {
   "cell_type": "markdown",
   "metadata": {},
   "source": [
    "<a href='https://www.darshan.ac.in/'> <img src='https://www.darshan.ac.in/Content/media/DU_Logo.svg' width=\"250\" height=\"300\"/></a>\n",
    "<pre>\n",
    "<center><b><h1>Python Programming - 2101CS405</b></center>\n",
    "<center><b><h1>Lab - 7</b></center>    \n",
    "<pre>"
   ]
  },
  {
   "cell_type": "markdown",
   "metadata": {},
   "source": [
    "# Functions"
   ]
  },
  {
   "cell_type": "markdown",
   "metadata": {},
   "source": [
    "### 01) WAP to count simple interest using function."
   ]
  },
  {
   "cell_type": "code",
   "execution_count": 5,
   "metadata": {},
   "outputs": [
    {
     "name": "stdout",
     "output_type": "stream",
     "text": [
      "Eneter Principal amount :3000\n",
      "Eneter Rate of interest :7\n",
      "Eneter Time is the duration :1\n",
      "simple interest : 210.0\n"
     ]
    }
   ],
   "source": [
    "def Simple_interest(p,r,t):\n",
    "    SI = (p*r*t)/100\n",
    "    return SI    \n",
    "    \n",
    "\n",
    "\n",
    "\n",
    "p = int(input(\"Enter Principal amount :\"))\n",
    "r = int(input(\"Enter Rate of interest :\"))\n",
    "t = int(input(\"Enter Time is the duration :\"))\n",
    "\n",
    "print('simple interest :',Simple_interest(p,r,t))"
   ]
  },
  {
   "cell_type": "markdown",
   "metadata": {},
   "source": [
    "### 02) WAP that defines a function to add first n numbers."
   ]
  },
  {
   "cell_type": "code",
   "execution_count": 8,
   "metadata": {},
   "outputs": [
    {
     "name": "stdout",
     "output_type": "stream",
     "text": [
      "How many element do you want :10\n",
      "55\n"
     ]
    }
   ],
   "source": [
    "def Add_Numbers(n) :\n",
    "    if n == 0 :\n",
    "        return 0\n",
    "    else : \n",
    "        return n + Add_Numbers(n-1)\n",
    "        \n",
    "n  = int(input('Enter Number:'))\n",
    "Add_Numbers(n)\n",
    "print(Add_Numbers(n))"
   ]
  },
  {
   "cell_type": "markdown",
   "metadata": {},
   "source": [
    "### 03) WAP to find maximum number from given two numbers using function."
   ]
  },
  {
   "cell_type": "code",
   "execution_count": 10,
   "metadata": {},
   "outputs": [
    {
     "name": "stdout",
     "output_type": "stream",
     "text": [
      "Enter Number:5\n",
      "Enter Number:10\n",
      "maximum number is : 10\n"
     ]
    }
   ],
   "source": [
    "def Max_Num(a,b) :\n",
    "    if a >= b :\n",
    "        return a\n",
    "    else :\n",
    "        return b\n",
    "    \n",
    "a = int(input('Enter Number:'))\n",
    "b = int(input('Enter Number:'))\n",
    "\n",
    "print(\"maximum number is :\",Max_Num(a,b))"
   ]
  },
  {
   "cell_type": "markdown",
   "metadata": {},
   "source": [
    "### 04) WAP that defines a function which returns 1 if the number is prime otherwise return 0."
   ]
  },
  {
   "cell_type": "code",
   "execution_count": 1,
   "metadata": {},
   "outputs": [
    {
     "name": "stdout",
     "output_type": "stream",
     "text": [
      "Enter positive number :11\n",
      "Number is prime\n"
     ]
    }
   ],
   "source": [
    "def Prime(n) :\n",
    "    if n < 2 :\n",
    "        return 0\n",
    "    for i in  range(2,int(n/2)+1) :\n",
    "        if n % i == 0 :\n",
    "            return 0\n",
    "    \n",
    "    return 1\n",
    "n = int(input('Enter positive number :'))\n",
    "\n",
    "if Prime(n) :\n",
    "    print(\"Number is prime\")\n",
    "else :\n",
    "    print(\"Number is not prime\")"
   ]
  },
  {
   "cell_type": "markdown",
   "metadata": {},
   "source": [
    "### 05) Write a function called primes that takes an integer value as an argument and returns a list of all prime numbers up to that number."
   ]
  },
  {
   "cell_type": "code",
   "execution_count": 2,
   "metadata": {},
   "outputs": [
    {
     "name": "stdout",
     "output_type": "stream",
     "text": [
      "Enter positive number :10\n",
      "[2, 3, 5, 7]\n"
     ]
    }
   ],
   "source": [
    "def Prime(n) :\n",
    "    list1 = []\n",
    "    \n",
    "    for i in range(2,n+1) :\n",
    "        for j in range(2,int(i/2)+1) :\n",
    "            if i % j == 0 :\n",
    "                break\n",
    "        else :\n",
    "            list1.append(i) \n",
    "    print(list1)\n",
    "    \n",
    "n = int(input('Enter positive number :'))\n",
    "Prime(n)"
   ]
  },
  {
   "cell_type": "markdown",
   "metadata": {},
   "source": [
    "### 06) WAP to generate Fibonacci series of N given number using function name fibbo. (e.g. 0 1 1 2 3 5 8...)"
   ]
  },
  {
   "cell_type": "code",
   "execution_count": 3,
   "metadata": {},
   "outputs": [
    {
     "name": "stdout",
     "output_type": "stream",
     "text": [
      "Enter positive number :5\n",
      "[0, 1, 1, 2, 3]\n"
     ]
    }
   ],
   "source": [
    "def Fibbo(n,a=0,b=1,i = 2) :\n",
    "    list1=[0,1]\n",
    "    while i < n :\n",
    "        c = a + b\n",
    "        list1.append(c)\n",
    "        a = b\n",
    "        b = c\n",
    "        i+=1\n",
    "    return list1\n",
    "\n",
    "n = int(input('Enter positive number :'))\n",
    "print(Fibbo(n))"
   ]
  },
  {
   "cell_type": "markdown",
   "metadata": {},
   "source": [
    "### 07) WAP to find the factorial of a given number using recursion."
   ]
  },
  {
   "cell_type": "code",
   "execution_count": 4,
   "metadata": {},
   "outputs": [
    {
     "name": "stdout",
     "output_type": "stream",
     "text": [
      "Enter positive number :5\n",
      "factorial of given number : 120\n"
     ]
    }
   ],
   "source": [
    "def fact(n) :\n",
    "    if n <= 1 :\n",
    "        return 1\n",
    "    else :\n",
    "        return n * fact(n-1)\n",
    "\n",
    "n= int(input('Enter positive number :'))\n",
    "print(\"factorial of given number :\",fact(n))"
   ]
  },
  {
   "cell_type": "markdown",
   "metadata": {},
   "source": [
    "### 08) WAP to implement simple calculator using lamda function."
   ]
  },
  {
   "cell_type": "code",
   "execution_count": 8,
   "metadata": {},
   "outputs": [
    {
     "name": "stdout",
     "output_type": "stream",
     "text": [
      "Enter Number:10\n",
      "Enter Number:20\n",
      "Enter oprator :\n",
      "1 for add\n",
      "2 for sub\n",
      "3 for multi\n",
      "4 for division :4\n",
      "0.5\n"
     ]
    }
   ],
   "source": [
    "a = int(input('Enter Number:'))\n",
    "b = int(input('Enter Number:'))\n",
    "op = int(input('Enter oprator :\\n1 for add\\n2 for sub\\n3 for multi\\n4 for division :'))\n",
    "\n",
    "Cal = lambda a , b ,op : a+b if op == 1 else a-b if op == 2 else a*b if op == 3 else a / b if op == 4 else \"error\"\n",
    "print(Cal(a,b,op))"
   ]
  },
  {
   "cell_type": "markdown",
   "metadata": {},
   "source": [
    "### 09)Write a Python program that accepts a hyphen-separated sequence of words as input and prints the words in a hyphen-separated sequence after sorting them alphabetically\n",
    "Sample Items : green-red-yellow-black-white <br>\n",
    "Expected Result : black-green-red-white-yellow"
   ]
  },
  {
   "cell_type": "code",
   "execution_count": 5,
   "metadata": {},
   "outputs": [
    {
     "name": "stdout",
     "output_type": "stream",
     "text": [
      "Enter hyphen-separated sequence of words :green-red-yellow-black-white\n",
      "['black', 'green', 'red', 'white', 'yellow']\n"
     ]
    }
   ],
   "source": [
    "word = input('Enter hyphen-separated sequence of words :')\n",
    "\n",
    "words = word.split('-')\n",
    "words.sort()\n",
    "print(words)"
   ]
  },
  {
   "cell_type": "markdown",
   "metadata": {},
   "source": [
    "### 10) Write a python program to implement all function arguments type\n",
    "Positional arguments <Br>\n",
    "Default argument <Br>\n",
    "Keyword arguments (named arguments) <Br>\n",
    "Arbitrary arguments (variable-length arguments args and kwargs)"
   ]
  },
  {
   "cell_type": "code",
   "execution_count": 10,
   "metadata": {},
   "outputs": [
    {
     "name": "stdout",
     "output_type": "stream",
     "text": [
      "Enter Number - 1 :10\n",
      "Enter Number - 2:20\n",
      "Ans = 30\n"
     ]
    }
   ],
   "source": [
    "def SumP(a,b) :\n",
    "    return a + b\n",
    "\n",
    "a = int(input('Enter Number - 1 :'))\n",
    "b = int(input('Enter Number - 2:'))\n",
    "print('Ans =',SumP(a,b))"
   ]
  },
  {
   "cell_type": "code",
   "execution_count": 15,
   "metadata": {},
   "outputs": [
    {
     "name": "stdout",
     "output_type": "stream",
     "text": [
      "Ans = 11\n"
     ]
    }
   ],
   "source": [
    "def SumD(a,b = 1) :\n",
    "    return a + b\n",
    "\n",
    "print('Ans =',SumD(10))"
   ]
  },
  {
   "cell_type": "code",
   "execution_count": 19,
   "metadata": {},
   "outputs": [
    {
     "name": "stdout",
     "output_type": "stream",
     "text": [
      "Ans = 60\n"
     ]
    }
   ],
   "source": [
    "def SumKey(a,b) :\n",
    "    return a + b\n",
    "\n",
    "print('Ans =',SumKey(b = 50,a = 10))"
   ]
  },
  {
   "cell_type": "code",
   "execution_count": 22,
   "metadata": {},
   "outputs": [
    {
     "name": "stdout",
     "output_type": "stream",
     "text": [
      "Ans = 22\n"
     ]
    }
   ],
   "source": [
    "def SumA(*num) :\n",
    "    sum = 0\n",
    "    for i in num :\n",
    "        sum += i\n",
    "    return sum\n",
    "\n",
    "print('Ans =',SumA(4,5,6,7))"
   ]
  },
  {
   "cell_type": "code",
   "execution_count": 31,
   "metadata": {},
   "outputs": [
    {
     "name": "stdout",
     "output_type": "stream",
     "text": [
      "first == abc\n",
      "last == bcd\n"
     ]
    }
   ],
   "source": [
    "def SumA(num,**kwargs) :\n",
    "    for key,value in kwargs.items() :\n",
    "        print('%s == %s' % (key,value))\n",
    "\n",
    "SumA(12,first = 'abc',last = 'bcd')"
   ]
  },
  {
   "cell_type": "markdown",
   "metadata": {},
   "source": [
    "### 01) WAP to calculate power of a number using recursion."
   ]
  },
  {
   "cell_type": "code",
   "execution_count": 34,
   "metadata": {},
   "outputs": [
    {
     "name": "stdout",
     "output_type": "stream",
     "text": [
      "Enter base :5\n",
      "Enter power :2\n",
      "Power of given number : 25\n"
     ]
    }
   ],
   "source": [
    "def Pow(base,power) :\n",
    "    if power == 1 :\n",
    "        return base\n",
    "    else :\n",
    "        return base * Pow(base,power - 1)\n",
    "\n",
    "base = int(input('Enter base :'))\n",
    "power = int(input('Enter power :'))\n",
    "\n",
    "print('Power of given number :',Pow(base,power))"
   ]
  },
  {
   "cell_type": "markdown",
   "metadata": {},
   "source": [
    "### 02) WAP to count digits of a number using recursion."
   ]
  },
  {
   "cell_type": "code",
   "execution_count": 6,
   "metadata": {},
   "outputs": [
    {
     "name": "stdout",
     "output_type": "stream",
     "text": [
      "Enter positive integer number :6545\n",
      "Total digit in count 4\n"
     ]
    }
   ],
   "source": [
    "def Count(num) :\n",
    "    count = 0\n",
    "    while num != 0 :\n",
    "        num = int(num/10)\n",
    "        count += 1\n",
    "    return count\n",
    "        \n",
    "num = int(input('Enter positive integer number :'))\n",
    "print('Total digit in count',Count(num))"
   ]
  },
  {
   "cell_type": "markdown",
   "metadata": {},
   "source": [
    "### 03) WAP to reverse an integer number using recursion."
   ]
  },
  {
   "cell_type": "code",
   "execution_count": 10,
   "metadata": {},
   "outputs": [
    {
     "name": "stdout",
     "output_type": "stream",
     "text": [
      "Enter positive integer number :123\n",
      "Reverse : 321\n"
     ]
    }
   ],
   "source": [
    "def Rev(num) :\n",
    "    rev = 0\n",
    "    while num != 0 :\n",
    "        rem = num %10\n",
    "        rev = rev * 10 + rem\n",
    "        num = int(num/10)\n",
    "    return rev\n",
    "\n",
    "num = int(input('Enter positive integer number :'))\n",
    "print('Reverse :',Rev(num))      "
   ]
  },
  {
   "cell_type": "markdown",
   "metadata": {},
   "source": [
    "### 04) WAP to convert decimal number into binary using recursion."
   ]
  },
  {
   "cell_type": "code",
   "execution_count": 10,
   "metadata": {},
   "outputs": [
    {
     "name": "stdout",
     "output_type": "stream",
     "text": [
      "1010"
     ]
    }
   ],
   "source": [
    "def Deci(num) :\n",
    "    if num > 1 :\n",
    "        Deci(int(num/2))\n",
    "    print(num % 2,end='')\n",
    "\n",
    "num = int(input('Enter positive integer number :'))\n",
    "Deci(num)"
   ]
  }
 ],
 "metadata": {
  "kernelspec": {
   "display_name": "Python 3 (ipykernel)",
   "language": "python",
   "name": "python3"
  },
  "language_info": {
   "codemirror_mode": {
    "name": "ipython",
    "version": 3
   },
   "file_extension": ".py",
   "mimetype": "text/x-python",
   "name": "python",
   "nbconvert_exporter": "python",
   "pygments_lexer": "ipython3",
   "version": "3.9.13 (main, Aug 25 2022, 23:51:50) [MSC v.1916 64 bit (AMD64)]"
  },
  "vscode": {
   "interpreter": {
    "hash": "ad2bdc8ecc057115af97d19610ffacc2b4e99fae6737bb82f5d7fb13d2f2c186"
   }
  }
 },
 "nbformat": 4,
 "nbformat_minor": 4
}
