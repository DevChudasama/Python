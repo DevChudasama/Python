{
 "cells": [
  {
   "cell_type": "markdown",
   "metadata": {},
   "source": [
    "\n",
    "<a href='https://www.darshan.ac.in/'> <img src='https://www.darshan.ac.in/Content/media/DU_Logo.svg' width=\"250\" height=\"300\"/></a>\n",
    "<pre>\n",
    "<center><b><h1>Python Programming - 2101CS405</b></center>\n",
    "<center><b><h1>Lab - 3</b></center>    \n",
    "<pre>"
   ]
  },
  {
   "cell_type": "markdown",
   "metadata": {},
   "source": [
    "# for and while loop"
   ]
  },
  {
   "cell_type": "markdown",
   "metadata": {},
   "source": [
    "### 01) WAP to print 1 to 10"
   ]
  },
  {
   "cell_type": "code",
   "execution_count": 5,
   "metadata": {},
   "outputs": [
    {
     "name": "stdout",
     "output_type": "stream",
     "text": [
      "1\n",
      "2\n",
      "3\n",
      "4\n",
      "5\n",
      "6\n",
      "7\n",
      "8\n",
      "9\n",
      "10\n"
     ]
    }
   ],
   "source": [
    "for i in range(1,11) :\n",
    "    print(i)"
   ]
  },
  {
   "cell_type": "markdown",
   "metadata": {},
   "source": [
    "### 02) WAP to print 1 to n"
   ]
  },
  {
   "cell_type": "code",
   "execution_count": 5,
   "metadata": {},
   "outputs": [
    {
     "name": "stdout",
     "output_type": "stream",
     "text": [
      "Enter number :15\n",
      "1\n",
      "2\n",
      "3\n",
      "4\n",
      "5\n",
      "6\n",
      "7\n",
      "8\n",
      "9\n",
      "10\n",
      "11\n",
      "12\n",
      "13\n",
      "14\n",
      "15\n"
     ]
    }
   ],
   "source": [
    "n = int(input('Enter number :'))\n",
    "\n",
    "for i in range(1,n+1) :\n",
    "    print(i)"
   ]
  },
  {
   "cell_type": "markdown",
   "metadata": {},
   "source": [
    "### 03) WAP to print odd numbers between 1 to n"
   ]
  },
  {
   "cell_type": "code",
   "execution_count": 8,
   "metadata": {},
   "outputs": [
    {
     "name": "stdout",
     "output_type": "stream",
     "text": [
      "Enter number :5\n",
      "1\n",
      "3\n",
      "5\n"
     ]
    }
   ],
   "source": [
    "n = int(input('Enter number :'))\n",
    "\n",
    "for i in range(1,n+1) :\n",
    "    if i % 2 != 0:\n",
    "        print(i)"
   ]
  },
  {
   "cell_type": "markdown",
   "metadata": {},
   "source": [
    "### 04) WAP to print numbers between two given numbers which is divisible by 2 but not divisible by 3"
   ]
  },
  {
   "cell_type": "code",
   "execution_count": 13,
   "metadata": {},
   "outputs": [
    {
     "name": "stdout",
     "output_type": "stream",
     "text": [
      "Enter number :10\n",
      "2\n",
      "4\n",
      "8\n"
     ]
    }
   ],
   "source": [
    "n = int(input('Enter number :'))\n",
    "\n",
    "for i in range(1,n) :\n",
    "    if i % 2 == 0 and i % 3 != 0 :\n",
    "        print(i)"
   ]
  },
  {
   "cell_type": "markdown",
   "metadata": {},
   "source": [
    "### 05) WAP to print sum of 1 to n numbers"
   ]
  },
  {
   "cell_type": "code",
   "execution_count": 20,
   "metadata": {},
   "outputs": [
    {
     "name": "stdout",
     "output_type": "stream",
     "text": [
      "Enter number :10\n",
      "Sum of n number is : 55\n"
     ]
    }
   ],
   "source": [
    "n = int(input('Enter number :'))\n",
    "\n",
    "sum=0\n",
    "\n",
    "for i in range(1,n+1) :\n",
    "    sum+=i\n",
    "\n",
    "print('Sum of n number is :',sum)\n"
   ]
  },
  {
   "cell_type": "markdown",
   "metadata": {},
   "source": [
    "### 06) WAP to print sum of series 1 + 4 + 9 + 16 + 25 + 36 + ...n"
   ]
  },
  {
   "cell_type": "code",
   "execution_count": 12,
   "metadata": {},
   "outputs": [
    {
     "name": "stdout",
     "output_type": "stream",
     "text": [
      "Enter number :5\n",
      "sum of series 1 + 4 + 9 +...n : 55\n"
     ]
    }
   ],
   "source": [
    "n = int(input('Enter number :'))\n",
    "\n",
    "sum=0\n",
    "\n",
    "for i in range(1,n+1) :\n",
    "    sum+=(i*i)\n",
    "    \n",
    "print('sum of series 1 + 4 + 9 +...n :',sum)"
   ]
  },
  {
   "cell_type": "markdown",
   "metadata": {},
   "source": [
    "### 07) WAP to print sum of series 1 – 2 + 3 – 4 + 5 – 6 + 7 ... n"
   ]
  },
  {
   "cell_type": "code",
   "execution_count": 23,
   "metadata": {},
   "outputs": [
    {
     "name": "stdout",
     "output_type": "stream",
     "text": [
      "Enter number :8\n",
      "sum of series 1...n : -4.0\n"
     ]
    }
   ],
   "source": [
    "n = int(input('Enter number :'))\n",
    "\n",
    "sum=0\n",
    "\n",
    "for i in range(1,n+1) :\n",
    "    if i % 2 == 1 :\n",
    "        sum=(n+1)/2\n",
    "    else :\n",
    "        sum=-n/2\n",
    "    \n",
    "print('sum of series 1...n :',sum)"
   ]
  },
  {
   "cell_type": "markdown",
   "metadata": {},
   "source": [
    "### 08) WAP to print multiplication table of given number."
   ]
  },
  {
   "cell_type": "code",
   "execution_count": 25,
   "metadata": {},
   "outputs": [
    {
     "name": "stdout",
     "output_type": "stream",
     "text": [
      "Enter number of you want to print multipliction table :5\n",
      "5 x 1 = 5\n",
      "5 x 2 = 10\n",
      "5 x 3 = 15\n",
      "5 x 4 = 20\n",
      "5 x 5 = 25\n",
      "5 x 6 = 30\n",
      "5 x 7 = 35\n",
      "5 x 8 = 40\n",
      "5 x 9 = 45\n",
      "5 x 10 = 50\n"
     ]
    }
   ],
   "source": [
    "n = int(input('Enter number of you want to print multipliction table :'))\n",
    "\n",
    "for i in range(1,11) :\n",
    "    print(n,'x',i,'=',n*i)"
   ]
  },
  {
   "cell_type": "markdown",
   "metadata": {},
   "source": [
    "### 09) WAP to find factorial of the given number"
   ]
  },
  {
   "cell_type": "code",
   "execution_count": 31,
   "metadata": {},
   "outputs": [
    {
     "name": "stdout",
     "output_type": "stream",
     "text": [
      "Enter number :5\n",
      "Fcatorial of given number is : 120\n"
     ]
    }
   ],
   "source": [
    "n = int(input('Enter number :'))\n",
    "\n",
    "fac=1\n",
    "\n",
    "for i in range(1,n+1) :\n",
    "    fac*=i\n",
    "\n",
    "print('Fcatorial of given number is :',fac)"
   ]
  },
  {
   "cell_type": "markdown",
   "metadata": {},
   "source": [
    "### 10) WAP to find factors of the given number"
   ]
  },
  {
   "cell_type": "code",
   "execution_count": 32,
   "metadata": {},
   "outputs": [
    {
     "name": "stdout",
     "output_type": "stream",
     "text": [
      "Enter positive number :36\n",
      "1\n",
      "2\n",
      "3\n",
      "4\n",
      "6\n",
      "9\n",
      "12\n",
      "18\n",
      "36\n"
     ]
    }
   ],
   "source": [
    "n = int(input('Enter positive number :'))\n",
    "\n",
    "\n",
    "for i in range(1,n+1) :\n",
    "    if n % i == 0 :\n",
    "        print(i)"
   ]
  },
  {
   "cell_type": "markdown",
   "metadata": {},
   "source": [
    "### 11) WAP to find whether the given number is prime or not."
   ]
  },
  {
   "cell_type": "code",
   "execution_count": 1,
   "metadata": {},
   "outputs": [
    {
     "name": "stdout",
     "output_type": "stream",
     "text": [
      "Enter positive number :7\n",
      "7 is prime number\n"
     ]
    }
   ],
   "source": [
    "n = int(input('Enter positive number :'))\n",
    "flag = 0 \n",
    "\n",
    "if n <= 1 :\n",
    "    flag = 1\n",
    "\n",
    "for i in range(2,int(n/2)+1) :\n",
    "    if (n % i) == 0 :\n",
    "        flag = 1\n",
    "        break\n",
    "    \n",
    "if flag == 0 :\n",
    "    print(n,'is prime number')\n",
    "else :\n",
    "    print(n,'is prime not number');"
   ]
  },
  {
   "cell_type": "markdown",
   "metadata": {},
   "source": [
    "### 12) WAP to print sum of digits of given number"
   ]
  },
  {
   "cell_type": "code",
   "execution_count": 2,
   "metadata": {},
   "outputs": [
    {
     "name": "stdout",
     "output_type": "stream",
     "text": [
      "Enter number :12\n",
      "3\n"
     ]
    }
   ],
   "source": [
    "sum = 0\n",
    "n = int(input('Enter number :'))\n",
    "\n",
    "while n > 0 :\n",
    "    digit = n % 10\n",
    "    sum = sum + digit\n",
    "    n = n / 10\n",
    "\n",
    "print(int(sum))"
   ]
  },
  {
   "cell_type": "markdown",
   "metadata": {},
   "source": [
    "### 13) WAP to check whether the given number is palindrome or not"
   ]
  },
  {
   "cell_type": "code",
   "execution_count": 47,
   "metadata": {},
   "outputs": [
    {
     "name": "stdout",
     "output_type": "stream",
     "text": [
      "Enter number :151\n",
      "given number is palindrome\n"
     ]
    }
   ],
   "source": [
    "sum = 0\n",
    "n = int(input('Enter number :'))\n",
    "temp = n\n",
    "\n",
    "while n > 0 :\n",
    "    r = n % 10\n",
    "    sum = (sum*10) + r\n",
    "    n = n // 10\n",
    "\n",
    "\n",
    "if temp == sum :\n",
    "    print('given number is palindrome')\n",
    "else :\n",
    "    print('given number is not palindrome')"
   ]
  },
  {
   "cell_type": "markdown",
   "metadata": {},
   "source": [
    "### 01) WAP to check whether the given number is Armstrong or not."
   ]
  },
  {
   "cell_type": "code",
   "execution_count": 21,
   "metadata": {},
   "outputs": [
    {
     "name": "stdout",
     "output_type": "stream",
     "text": [
      "Enter number :1634\n",
      "given number is Armstrong\n"
     ]
    }
   ],
   "source": [
    "import math\n",
    "\n",
    "sum = 0\n",
    "n = int(input('Enter number :'))\n",
    "temp = n\n",
    "\n",
    "while n != 0 :\n",
    "    r = int(n % 10)\n",
    "    sum = sum + math.pow(r,len(str(temp)))\n",
    "    n = int(n / 10)\n",
    "\n",
    "\n",
    "if temp == sum :\n",
    "    print('given number is Armstrong')\n",
    "else :\n",
    "    print('given number is not Armstrong')"
   ]
  },
  {
   "cell_type": "markdown",
   "metadata": {},
   "source": [
    "### 02) WAP to find out prime numbers between given two numbers."
   ]
  },
  {
   "cell_type": "code",
   "execution_count": 12,
   "metadata": {},
   "outputs": [
    {
     "name": "stdout",
     "output_type": "stream",
     "text": [
      "Enter starting number :2\n",
      "Enter ending number :11\n",
      "2\n",
      "3\n",
      "5\n",
      "7\n",
      "11\n"
     ]
    }
   ],
   "source": [
    "n1 = int(input('Enter starting number :'))\n",
    "n2 = int(input('Enter ending number :'))\n",
    "\n",
    "for number in range(n1,n2+1) :\n",
    "    if number > 1 :\n",
    "        for i in range(2,number) :\n",
    "            if (number % i) == 0 :\n",
    "                break\n",
    "        else :\n",
    "            print(number)"
   ]
  },
  {
   "cell_type": "markdown",
   "metadata": {},
   "source": [
    "### 03) WAP to calculate x^y without using any function."
   ]
  },
  {
   "cell_type": "code",
   "execution_count": 11,
   "metadata": {},
   "outputs": [
    {
     "name": "stdout",
     "output_type": "stream",
     "text": [
      "Enter base number :2\n",
      "Enter power number :3\n",
      "8\n"
     ]
    }
   ],
   "source": [
    "x = int(input('Enter base number :'))\n",
    "y = int(input('Enter power number :'))\n",
    "\n",
    "ans = 1\n",
    "\n",
    "while y > 0 :\n",
    "    ans *= x\n",
    "    y -= 1\n",
    "\n",
    "print(ans)"
   ]
  },
  {
   "cell_type": "markdown",
   "metadata": {},
   "source": [
    "### 04) WAP to check whether the given number is perfect or not.\n",
    "[Sum of factors including 1 excluding number itself]"
   ]
  },
  {
   "cell_type": "code",
   "execution_count": 37,
   "metadata": {},
   "outputs": [
    {
     "name": "stdout",
     "output_type": "stream",
     "text": [
      "Enter number :6\n",
      "6 is perfect number\n"
     ]
    }
   ],
   "source": [
    "sum = 0\n",
    "\n",
    "n = int(input('Enter number :'))\n",
    "\n",
    "for i in range(1,int(n/2)+1) :\n",
    "    if (n % i) == 0 :\n",
    "        sum +=i \n",
    "    \n",
    "if sum == n :\n",
    "    print(n,'is perfect number')\n",
    "else :\n",
    "    print(n,'is perfect not number');"
   ]
  },
  {
   "cell_type": "markdown",
   "metadata": {},
   "source": [
    "### 05) WAP to find the sum of 1 + (1+2) + (1+2+3) + (1+2+3+4)+...+(1+2+3+4+....+n)"
   ]
  },
  {
   "cell_type": "code",
   "execution_count": 22,
   "metadata": {},
   "outputs": [
    {
     "name": "stdout",
     "output_type": "stream",
     "text": [
      "Enter number :10\n",
      "715\n"
     ]
    }
   ],
   "source": [
    "sum = 0\n",
    "n = int(input('Enter number :'))\n",
    "\n",
    "for i in range(1,n+1) :\n",
    "    sum = sum +(i*(i+1)/2)\n",
    "    \n",
    "print(int(sum))"
   ]
  },
  {
   "cell_type": "markdown",
   "metadata": {},
   "source": [
    "### 06) WAP to print Multiplication Table up to n"
   ]
  },
  {
   "cell_type": "code",
   "execution_count": 3,
   "metadata": {},
   "outputs": [
    {
     "name": "stdout",
     "output_type": "stream",
     "text": [
      "Enter number of you want to print multipliction table :1\n",
      "Enter number to print multiplication table up to n :5\n",
      "1 x 1 = 1\n",
      "1 x 2 = 2\n",
      "1 x 3 = 3\n",
      "1 x 4 = 4\n",
      "1 x 5 = 5\n"
     ]
    }
   ],
   "source": [
    "n = int(input('Enter number of you want to print multipliction table :'))\n",
    "upN = int(input('Enter number to print multiplication table up to n :'))\n",
    "\n",
    "for i in range(1,upN+1) :\n",
    "    print(n,'x',i,'=',n*i)"
   ]
  }
 ],
 "metadata": {
  "kernelspec": {
   "display_name": "Python 3 (ipykernel)",
   "language": "python",
   "name": "python3"
  },
  "language_info": {
   "codemirror_mode": {
    "name": "ipython",
    "version": 3
   },
   "file_extension": ".py",
   "mimetype": "text/x-python",
   "name": "python",
   "nbconvert_exporter": "python",
   "pygments_lexer": "ipython3",
   "version": "3.9.13 (main, Aug 25 2022, 23:51:50) [MSC v.1916 64 bit (AMD64)]"
  },
  "vscode": {
   "interpreter": {
    "hash": "ad2bdc8ecc057115af97d19610ffacc2b4e99fae6737bb82f5d7fb13d2f2c186"
   }
  }
 },
 "nbformat": 4,
 "nbformat_minor": 4
}
