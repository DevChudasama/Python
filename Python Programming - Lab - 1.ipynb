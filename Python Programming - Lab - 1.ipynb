{
 "cells": [
  {
   "cell_type": "markdown",
   "metadata": {},
   "source": [
    "<a href='https://www.darshan.ac.in/'> <img src='https://www.darshan.ac.in/Content/media/DU_Logo.svg' width=\"250\" height=\"300\"/></a>\n",
    "<pre>\n",
    "<center><b><h1>Python Programming - 2101CS405</b></center>\n",
    "<center><b><h1>Lab - 1</b></center>    \n",
    "<pre>"
   ]
  },
  {
   "cell_type": "markdown",
   "metadata": {},
   "source": [
    "### 01) WAP to print “Hello World”"
   ]
  },
  {
   "cell_type": "code",
   "execution_count": 1,
   "metadata": {},
   "outputs": [
    {
     "name": "stdout",
     "output_type": "stream",
     "text": [
      "hello world\n"
     ]
    }
   ],
   "source": [
    "print('hello world')"
   ]
  },
  {
   "cell_type": "markdown",
   "metadata": {},
   "source": [
    "### 02) WAP to print your address i) using single print ii) using multiple print"
   ]
  },
  {
   "cell_type": "code",
   "execution_count": 2,
   "metadata": {},
   "outputs": [
    {
     "name": "stdout",
     "output_type": "stream",
     "text": [
      "xyz,agjg,Rajkot,Gujarat,360001\n",
      "=====================\n",
      "xyz,\n",
      "agjg,\n",
      "Rajkot,\n",
      "Gujarat,\n",
      "360001\n"
     ]
    }
   ],
   "source": [
    "print('xyz,agjg,Rajkot,Gujarat,360001')\n",
    "\n",
    "print('=====================')\n",
    "\n",
    "print('xyz,')\n",
    "print ('agjg,')\n",
    "print('Rajkot,')\n",
    "print('Gujarat,')\n",
    "print('360001')"
   ]
  },
  {
   "cell_type": "markdown",
   "metadata": {},
   "source": [
    "### 03) WAP to print addition of 2 numbers (without input function)"
   ]
  },
  {
   "cell_type": "code",
   "execution_count": 3,
   "metadata": {},
   "outputs": [
    {
     "name": "stdout",
     "output_type": "stream",
     "text": [
      "Addition is: 20\n"
     ]
    }
   ],
   "source": [
    "a=10\n",
    "b=10\n",
    "print('Addition is:',a+b)"
   ]
  },
  {
   "cell_type": "markdown",
   "metadata": {},
   "source": [
    "### 04) WAP to calculate and print average of 2 numbers (without input function)"
   ]
  },
  {
   "cell_type": "code",
   "execution_count": 4,
   "metadata": {},
   "outputs": [
    {
     "name": "stdout",
     "output_type": "stream",
     "text": [
      "Average is: 15.0\n"
     ]
    }
   ],
   "source": [
    "a=10\n",
    "b=20\n",
    "total=(a+b)/2\n",
    "\n",
    "print('Average is:',total)"
   ]
  },
  {
   "cell_type": "markdown",
   "metadata": {},
   "source": [
    "### 05) WAP to add two number entered by user."
   ]
  },
  {
   "cell_type": "code",
   "execution_count": 5,
   "metadata": {},
   "outputs": [
    {
     "name": "stdout",
     "output_type": "stream",
     "text": [
      "Enter number_1:10\n",
      "Enter number_2:20\n",
      "Addition is: 30\n"
     ]
    }
   ],
   "source": [
    "a=int(input('Enter number_1:'))\n",
    "b=int(input('Enter number_2:'))\n",
    "print('Addition is:',a+b)"
   ]
  },
  {
   "cell_type": "markdown",
   "metadata": {},
   "source": [
    "### 06) WAP to calculate simple interest."
   ]
  },
  {
   "cell_type": "code",
   "execution_count": 8,
   "metadata": {},
   "outputs": [
    {
     "name": "stdout",
     "output_type": "stream",
     "text": [
      "Enter Principal:10\n",
      "Enter Rate of interest :5\n",
      "Enter Time Period:3\n",
      "Simple interest: 1.5\n"
     ]
    }
   ],
   "source": [
    "p=float(input('Enter Principal:'))\n",
    "r=float(input('Enter Rate of interest :'))\n",
    "t=float(input('Enter Time Period:'))\n",
    "\n",
    "SI=(p*r*t)/100\n",
    "print('Simple interest:',SI)"
   ]
  },
  {
   "cell_type": "markdown",
   "metadata": {},
   "source": [
    "### 07) WAP Calculate Area and Circumfrence of Circle"
   ]
  },
  {
   "cell_type": "code",
   "execution_count": 7,
   "metadata": {},
   "outputs": [
    {
     "name": "stdout",
     "output_type": "stream",
     "text": [
      "Enter Radius:5\n",
      "Aera of circle is: 78.5 \n",
      "Circumference of circle is: 31.400000000000002\n"
     ]
    }
   ],
   "source": [
    "r=float(input('Enter Radius:'))\n",
    "\n",
    "Area=3.14*r*r\n",
    "Circumference=2*3.14*r\n",
    "print('Aera of circle is:',Area,'\\nCircumference of circle is:',Circumference)"
   ]
  },
  {
   "cell_type": "markdown",
   "metadata": {},
   "source": [
    "### 08) WAP to print Multiplication table of given number without using loops."
   ]
  },
  {
   "cell_type": "code",
   "execution_count": 1,
   "metadata": {},
   "outputs": [
    {
     "name": "stdout",
     "output_type": "stream",
     "text": [
      "Enter Number5\n",
      "5 x 1 = 5\n",
      "5 x 2 = 10\n",
      "5 x 3 = 15\n",
      "5 x 4 = 20\n",
      "5 x 5 = 25\n",
      "5 x 6 = 30\n",
      "5 x 7 = 35\n",
      "5 x 8 = 40\n",
      "5 x 9 = 45\n",
      "5 x 10 = 50\n"
     ]
    }
   ],
   "source": [
    "n=int(input('Enter Number'))\n",
    "\n",
    "print(n, 'x', 1, '=', n*1)\n",
    "print(n, 'x', 2, '=', n*2)\n",
    "print(n, 'x', 3, '=', n*3)\n",
    "print(n, 'x', 4, '=', n*4)\n",
    "print(n, 'x', 5, '=', n*5)\n",
    "print(n, 'x', 6, '=', n*6)\n",
    "print(n, 'x', 7, '=', n*7)\n",
    "print(n, 'x', 8, '=', n*8)\n",
    "print(n, 'x', 9, '=', n*9)\n",
    "print(n, 'x', 10, '=', n*10)"
   ]
  },
  {
   "cell_type": "markdown",
   "metadata": {},
   "source": [
    "### 09) WAP to calculate Area of Triangle (hint: a = h * b * 0.5)"
   ]
  },
  {
   "cell_type": "code",
   "execution_count": 2,
   "metadata": {},
   "outputs": [
    {
     "name": "stdout",
     "output_type": "stream",
     "text": [
      "Enter Height:5\n",
      "Enter Base:10\n",
      "Area of Triangle is: 25.0\n"
     ]
    }
   ],
   "source": [
    "h=float(input('Enter Height:'))\n",
    "b=float(input('Enter Base:'))\n",
    "\n",
    "Area=h*b*0.5\n",
    "print('Area of Triangle is:',Area)"
   ]
  },
  {
   "cell_type": "markdown",
   "metadata": {},
   "source": [
    "### 10) WAP to convert degree to Fahrenheit and vice versa."
   ]
  },
  {
   "cell_type": "code",
   "execution_count": 3,
   "metadata": {},
   "outputs": [
    {
     "name": "stdout",
     "output_type": "stream",
     "text": [
      "Enter temperature in Celsius:32\n",
      "Enter temperature in Fahrenheit:30\n",
      "Celsius to Fahrenheit.: -1.1111111111111112 \n",
      "Fahrenheit to Celsius.: 30.0\n"
     ]
    }
   ],
   "source": [
    "c=float(input('Enter temperature in Celsius:'))\n",
    "f=float(input('Enter temperature in Fahrenheit:'))\n",
    "\n",
    "c=(f-32)/1.8\n",
    "f=(c*1.8)+32\n",
    "\n",
    "print('Celsius to Fahrenheit.:',c,'\\nFahrenheit to Celsius.:',f)"
   ]
  },
  {
   "cell_type": "markdown",
   "metadata": {},
   "source": [
    "### 11) WAP to calculate total marks and Percentage."
   ]
  },
  {
   "cell_type": "code",
   "execution_count": 4,
   "metadata": {},
   "outputs": [
    {
     "name": "stdout",
     "output_type": "stream",
     "text": [
      "Enter Marks of Sub1:10\n",
      "Enter Marks of Sub2:20\n",
      "Enter Marks of Sub3:50\n",
      "Total Marks: 80 \n",
      "Percentage: 26.666666666666668 %\n"
     ]
    }
   ],
   "source": [
    "sub1=int(input('Enter Marks of Sub1:'))\n",
    "sub2=int(input('Enter Marks of Sub2:'))\n",
    "sub3=int(input('Enter Marks of Sub3:'))\n",
    "\n",
    "total=sub1+sub2+sub3\n",
    "per=(total/300)*100\n",
    "print('Total Marks:',total,'\\nPercentage:',per,'%')"
   ]
  },
  {
   "cell_type": "markdown",
   "metadata": {},
   "source": [
    "### 12) Compute distance between two points taking input from the user (Pythagorean Theorem)."
   ]
  },
  {
   "cell_type": "code",
   "execution_count": 5,
   "metadata": {},
   "outputs": [
    {
     "name": "stdout",
     "output_type": "stream",
     "text": [
      "Enter x1:6\n",
      "Enter x2:4\n",
      "Enter y1:0\n",
      "Enter y2:4\n",
      "distance between (6, 4) and (0, 4) is :  4.47213595499958\n"
     ]
    }
   ],
   "source": [
    "x1=int(input('Enter x1:'))\n",
    "x2=int(input('Enter x2:'))\n",
    "y1=int(input('Enter y1:'))\n",
    "y2=int(input('Enter y2:'))\n",
    "\n",
    "a=(x2-x1)**2\n",
    "b=(y2-y1)**2\n",
    "\n",
    "result=((a+b)**0.5)\n",
    "print('distance between',(x1,x2),'and',(y1,y2),'is : ',result)"
   ]
  },
  {
   "cell_type": "markdown",
   "metadata": {},
   "source": [
    "### 13) WAP to convert seconds into hours, minutes & seconds and print in HH:MM:SS\n",
    "[e.g. 10000 seconds mean 2:46:40 (2 Hours, 46 Minutes, 40Seconds)]"
   ]
  },
  {
   "cell_type": "code",
   "execution_count": 6,
   "metadata": {},
   "outputs": [
    {
     "name": "stdout",
     "output_type": "stream",
     "text": [
      "Enter Seconds:50000\n",
      "13 : 53 : 20\n"
     ]
    }
   ],
   "source": [
    "sec = int(input('Enter Seconds:'))\n",
    "\n",
    "sec = sec % (24*3600)\n",
    "hour = sec // 3600\n",
    "sec %= 3600\n",
    "minutes=sec // 60\n",
    "sec %= 60\n",
    "\n",
    "print(hour,':',minutes,':',sec)"
   ]
  },
  {
   "cell_type": "markdown",
   "metadata": {},
   "source": [
    "### 14) WAP to enter distance into kilometer and convert it into meter, feet,inches, and centimeter"
   ]
  },
  {
   "cell_type": "code",
   "execution_count": 7,
   "metadata": {},
   "outputs": [
    {
     "name": "stdout",
     "output_type": "stream",
     "text": [
      "Enter the distance in Kilometers:2000\n",
      "kilometer to Meter : 2000000 \n",
      "kilometer to Feet : 6561680.0 \n",
      "kilometer to Inches : 78740200.0 \n",
      "kilometer to Centimeter : 200000000\n"
     ]
    }
   ],
   "source": [
    "km=int(input('Enter the distance in Kilometers:'))\n",
    "Meter = km * 1000\n",
    "Feet = km * 3280.84\n",
    "inches = km * 39370.1\n",
    "Centimeter = km * 100000\n",
    "\n",
    "print('kilometer to Meter :',Meter,'\\nkilometer to Feet :',Feet,'\\nkilometer to Inches :',inches,'\\nkilometer to Centimeter :',Centimeter)"
   ]
  }
 ],
 "metadata": {
  "kernelspec": {
   "display_name": "Python 3 (ipykernel)",
   "language": "python",
   "name": "python3"
  },
  "language_info": {
   "codemirror_mode": {
    "name": "ipython",
    "version": 3
   },
   "file_extension": ".py",
   "mimetype": "text/x-python",
   "name": "python",
   "nbconvert_exporter": "python",
   "pygments_lexer": "ipython3",
   "version": "3.9.13"
  },
  "vscode": {
   "interpreter": {
    "hash": "ad2bdc8ecc057115af97d19610ffacc2b4e99fae6737bb82f5d7fb13d2f2c186"
   }
  }
 },
 "nbformat": 4,
 "nbformat_minor": 4
}
